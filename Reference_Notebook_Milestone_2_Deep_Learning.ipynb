{
  "nbformat": 4,
  "nbformat_minor": 0,
  "metadata": {
    "colab": {
      "name": "Reference_Notebook_Milestone2_DL.ipynb",
      "provenance": [],
      "collapsed_sections": []
    },
    "kernelspec": {
      "display_name": "Python 3",
      "name": "python3"
    },
    "language_info": {
      "name": "python"
    }
  },
  "cells": [
    {
      "cell_type": "markdown",
      "metadata": {
        "id": "vGsTRO4XBWKn"
      },
      "source": [
        "#<b>Milestone 2"
      ]
    },
    {
      "cell_type": "markdown",
      "metadata": {
        "id": "HDM89XHyCxrA"
      },
      "source": [
        "###<b> Mounting the Drive"
      ]
    },
    {
      "cell_type": "code",
      "source": [
        "#Mounting the drive\n",
        "from google.colab import drive\n",
        "drive.mount('/content/drive')"
      ],
      "metadata": {
        "id": "qMFmg856411h"
      },
      "execution_count": null,
      "outputs": []
    },
    {
      "cell_type": "markdown",
      "metadata": {
        "id": "UC8-yLUUCcWh"
      },
      "source": [
        "###<b>Loading libraries</b>"
      ]
    },
    {
      "cell_type": "code",
      "metadata": {
        "id": "qprkPYi_AmMT"
      },
      "source": [
        "#Importing libraries required to load the data\n",
        "\n",
        "import zipfile\n",
        "import os\n",
        "from PIL import Image\n",
        "import numpy as np\n",
        "import pandas as pd\n",
        "import matplotlib.pyplot as plt\n",
        "import seaborn as sns\n",
        "\n",
        "from sklearn.model_selection import train_test_split\n",
        "from sklearn.preprocessing import MinMaxScaler\n",
        "\n",
        "import tensorflow as tf\n",
        "from tensorflow.keras.models import Sequential\n",
        "from tensorflow.keras.layers import Dense, Conv2D, MaxPool2D, BatchNormalization, Dropout, Flatten, LeakyReLU, GlobalAvgPool2D\n",
        "from tensorflow.keras.utils import to_categorical\n",
        "from tensorflow.keras import optimizers\n",
        "\n",
        "#to ignore warnings\n",
        "import warnings\n",
        "warnings.filterwarnings('ignore')\n",
        "\n",
        "# Remove the limit from the number of displayed columns and rows. It helps to see the entire dataframe while printing it\n",
        "pd.set_option(\"display.max_columns\", None)\n",
        "pd.set_option(\"display.max_rows\", 200)"
      ],
      "execution_count": null,
      "outputs": []
    },
    {
      "cell_type": "markdown",
      "metadata": {
        "id": "nCqJk2XpCnJi"
      },
      "source": [
        "### <b>Let us load the data</b>"
      ]
    },
    {
      "cell_type": "markdown",
      "metadata": {
        "id": "_syvBdMlDTsr"
      },
      "source": [
        "**Note:** \n",
        "- You must download the dataset from the link provided on Olympus and upload the same on your Google drive before executing the code in the next cell.\n",
        "- In case of any error, please make sure that the path of the file is correct as the path may be different for you."
      ]
    },
    {
      "cell_type": "code",
      "source": [
        "#Storing the path of the data file from the Google drive\n",
        "path = '/content/drive/MyDrive/cell_images.zip'\n",
        "\n",
        "#The data is provided as a zip file so we need to extract the files from the zip file\n",
        "with zipfile.ZipFile(path, 'r') as zip_ref:\n",
        "    zip_ref.extractall()"
      ],
      "metadata": {
        "id": "_pbRbKrN45sB"
      },
      "execution_count": null,
      "outputs": []
    },
    {
      "cell_type": "markdown",
      "metadata": {
        "id": "7-HLt-uoF0dF"
      },
      "source": [
        "The files have been extracted to the local session of Google Colab. The extracted folder would have the following structure:\n",
        "\n",
        "![Folder_Structure.PNG](data:image/png;base64,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)"
      ]
    },
    {
      "cell_type": "markdown",
      "metadata": {
        "id": "IW3fDq7gF4Hw"
      },
      "source": [
        "The extracted folder has different folders for train and test data which further contains the different sizes of images for parasitized and uninfected cells within the respective folder name. \n",
        "\n",
        "The size of all images must be the same and should be converted to 4D arrays so that they can be used as an input for the convolutional neural network. Also, we need to create the labels for both types of images to be able to train and test the model. \n",
        "\n",
        "Let's do the same for the training data first and then we will use the same code for the test data as well."
      ]
    },
    {
      "cell_type": "code",
      "metadata": {
        "id": "SjK02uF1DXdW"
      },
      "source": [
        "#Storing the path of the extracted \"train\" folder \n",
        "train_dir = '/content/cell_images/train'\n",
        "\n",
        "#Size of image so that each image has the same size\n",
        "SIZE = 64\n",
        "\n",
        "#Empty list to store the training images after they are converted to NumPy arrays\n",
        "train_images = []\n",
        "\n",
        "#Empty list to store the training labels (0 - uninfected, 1 - parasitized)\n",
        "train_labels = []"
      ],
      "execution_count": null,
      "outputs": []
    },
    {
      "cell_type": "code",
      "metadata": {
        "id": "2JNY4tSvDXgn"
      },
      "source": [
        "#We will run the same code for \"parasitized\" as well as \"uninfected\" folders within the \"train\" folder\n",
        "for folder_name in ['/parasitized/', '/uninfected/']:\n",
        "    \n",
        "    #Path of the folder\n",
        "    images_path = os.listdir(train_dir + folder_name)\n",
        "\n",
        "    for i, image_name in enumerate(images_path):\n",
        "        try:\n",
        "            #Opening each image using the path of that image\n",
        "            image = Image.open(train_dir + folder_name + image_name)\n",
        "\n",
        "            #Resizing each image to (64,64)\n",
        "            image = image.resize((SIZE, SIZE))\n",
        "\n",
        "            #Converting images to arrays and appending that array to the empty list defined above\n",
        "            train_images.append(np.array(image))\n",
        "\n",
        "            #Creating labels for parasitized and uninfected images\n",
        "            if folder_name=='/parasitized/':\n",
        "                train_labels.append(1)\n",
        "            else:\n",
        "                train_labels.append(0)\n",
        "        except Exception:\n",
        "            pass       \n",
        "\n",
        "#Converting lists to arrays\n",
        "train_images = np.array(train_images)\n",
        "train_labels = np.array(train_labels)"
      ],
      "execution_count": null,
      "outputs": []
    },
    {
      "cell_type": "code",
      "metadata": {
        "id": "DfwXIsK_DXiv"
      },
      "source": [
        "#Storing the path of the extracted \"test\" folder \n",
        "test_dir = '/content/cell_images/test'\n",
        "\n",
        "#Size of image so that each image has the same size (it must be same as the train image size)\n",
        "SIZE = 64\n",
        "\n",
        "#Empty list to store the testing images after they are converted to NumPy arrays\n",
        "test_images = []\n",
        "\n",
        "#Empty list to store the testing labels (0 - uninfected, 1 - parasitized)\n",
        "test_labels = []"
      ],
      "execution_count": null,
      "outputs": []
    },
    {
      "cell_type": "code",
      "metadata": {
        "id": "My6pm3AFDXk9"
      },
      "source": [
        "#We will run the same code for \"parasitized\" as well as \"uninfected\" folders within the \"test\" folder\n",
        "for folder_name in ['/parasitized/', '/uninfected/']:\n",
        "    \n",
        "    #Path of the folder\n",
        "    images_path = os.listdir(test_dir + folder_name)\n",
        "\n",
        "    for i, image_name in enumerate(images_path):\n",
        "        try:\n",
        "            #Opening each image using the path of that image\n",
        "            image = Image.open(test_dir + folder_name + image_name)\n",
        "            \n",
        "            #Resizing each image to (64,64)\n",
        "            image = image.resize((SIZE, SIZE))\n",
        "            \n",
        "            #Converting images to arrays and appending that array to the empty list defined above\n",
        "            test_images.append(np.array(image))\n",
        "            \n",
        "            #Creating labels for parasitized and uninfected images\n",
        "            if folder_name=='/parasitized/':\n",
        "                test_labels.append(1)\n",
        "            else:\n",
        "                test_labels.append(0)\n",
        "        except Exception:\n",
        "            pass       \n",
        "\n",
        "#Converting lists to arrays\n",
        "test_images = np.array(test_images)\n",
        "test_labels = np.array(test_labels)"
      ],
      "execution_count": null,
      "outputs": []
    },
    {
      "cell_type": "markdown",
      "metadata": {
        "id": "7U71xb2XJe0t"
      },
      "source": [
        "###<b>Normalize the images"
      ]
    },
    {
      "cell_type": "code",
      "metadata": {
        "id": "HqzvvNS9IvsP"
      },
      "source": [
        "# try to normalize the train and test images by dividing it by 255 and convert them to float32 using astype function\n",
        "train_images = (___________).astype('float32')\n",
        "test_images = (______________).astype('float32')"
      ],
      "execution_count": null,
      "outputs": []
    },
    {
      "cell_type": "markdown",
      "metadata": {
        "id": "9txGUBdSNT7J"
      },
      "source": [
        "As we have done our preprocessing required and performed some EDA to gain some insights in our Milestone-1 so now we will try to build our model and try evaluating its performance."
      ]
    },
    {
      "cell_type": "markdown",
      "metadata": {
        "id": "vtayck2-Pm3G"
      },
      "source": [
        "###<B>One Hot Encoding on the train and test labels"
      ]
    },
    {
      "cell_type": "code",
      "metadata": {
        "id": "xDWl6dVtOMom"
      },
      "source": [
        "# Encoding Train Labels\n",
        "train_labels=to_categorical(____,2)\n",
        "# Similarly let us try to encode test labels\n",
        "test_labels=to_categorical(_____,2)"
      ],
      "execution_count": null,
      "outputs": []
    },
    {
      "cell_type": "markdown",
      "metadata": {
        "id": "G4_ZzqDp8T5w"
      },
      "source": [
        "### **Base Model**\n",
        "\n",
        "**Note:** The Base Model has been fully built and evaluated with all outputs shown to give an idea about the process of the creation and evaluation of the performance of a CNN architecture. A similar process can be followed in iterating to build better-performing CNN architectures."
      ]
    },
    {
      "cell_type": "markdown",
      "metadata": {
        "id": "qTMSr0Xw6x3b"
      },
      "source": [
        "####<b> Importing the required libraries"
      ]
    },
    {
      "cell_type": "code",
      "metadata": {
        "id": "X8eWxdyDp_ZC"
      },
      "source": [
        "#Clearing backend\n",
        "from tensorflow.keras import backend\n",
        "from tensorflow.keras.utils import to_categorical\n",
        "from tensorflow.keras.models import Sequential\n",
        "from tensorflow.keras.layers import Conv2D,MaxPooling2D,Dense,Flatten,Dropout  \n",
        "from tensorflow.keras.callbacks import EarlyStopping, ModelCheckpoint\n",
        "from random import shuffle\n",
        "\n",
        "backend.clear_session()\n",
        "#Fixing the seed for random number generators so that we can ensure we receive the same output everytime\n",
        "np.random.seed(42)\n",
        "import random\n",
        "random.seed(42)\n",
        "tf.random.set_seed(42)"
      ],
      "execution_count": null,
      "outputs": []
    },
    {
      "cell_type": "markdown",
      "metadata": {
        "id": "fmwb4h0h64Km"
      },
      "source": [
        "####<b> Building the model"
      ]
    },
    {
      "cell_type": "code",
      "source": [
        "#creating sequential model\n",
        "model=Sequential()\n",
        "model.add(Conv2D(filters=32,kernel_size=2,padding=\"same\",activation=\"relu\",input_shape=(64,64,3)))\n",
        "model.add(MaxPooling2D(pool_size=2))\n",
        "model.add(Dropout(0.2))\n",
        "model.add(Conv2D(filters=32,kernel_size=2,padding=\"same\",activation=\"relu\"))\n",
        "model.add(MaxPooling2D(pool_size=2))\n",
        "model.add(Dropout(0.2))\n",
        "model.add(Conv2D(filters=32,kernel_size=2,padding=\"same\",activation=\"relu\"))\n",
        "model.add(MaxPooling2D(pool_size=2))\n",
        "model.add(Dropout(0.2))\n",
        "\n",
        "\n",
        "model.add(Flatten())\n",
        "\n",
        "model.add(Dense(512,activation=\"relu\"))\n",
        "model.add(Dropout(0.4))\n",
        "model.add(Dense(2,activation=\"softmax\"))#2 represent output layer neurons \n",
        "model.summary()"
      ],
      "metadata": {
        "id": "3LV1Ad_b4_LK"
      },
      "execution_count": null,
      "outputs": []
    },
    {
      "cell_type": "markdown",
      "metadata": {
        "id": "4Sh0OGP268Qm"
      },
      "source": [
        "####<b> Compiling the model"
      ]
    },
    {
      "cell_type": "code",
      "metadata": {
        "id": "fGGRMByKOMyG"
      },
      "source": [
        "model.compile(loss='binary_crossentropy', optimizer='adam', metrics=['accuracy'])"
      ],
      "execution_count": null,
      "outputs": []
    },
    {
      "cell_type": "markdown",
      "metadata": {
        "id": "7Dt8lFvz6_K6"
      },
      "source": [
        "<b> Using Callbacks "
      ]
    },
    {
      "cell_type": "code",
      "metadata": {
        "id": "FPwUYX3KOM34"
      },
      "source": [
        "callbacks = [EarlyStopping(monitor='val_loss', patience=2),\n",
        "             ModelCheckpoint('.mdl_wts.hdf5', monitor='val_loss', save_best_only=True)]"
      ],
      "execution_count": null,
      "outputs": []
    },
    {
      "cell_type": "markdown",
      "metadata": {
        "id": "91af114l7DCt"
      },
      "source": [
        "<b> Fit and train our Model"
      ]
    },
    {
      "cell_type": "code",
      "source": [
        "#Fit the model with min batch size as 32 can tune batch size to some factor of 2^power ] \n",
        "history=model.fit(train_images,train_labels,batch_size=32,callbacks=callbacks,validation_split=0.2,epochs=20,verbose=1)"
      ],
      "metadata": {
        "id": "XysPQsWn5EGq"
      },
      "execution_count": null,
      "outputs": []
    },
    {
      "cell_type": "markdown",
      "metadata": {
        "id": "Vn7bDXku7Ib8"
      },
      "source": [
        "####<b> Evaluating the model on test data"
      ]
    },
    {
      "cell_type": "code",
      "source": [
        "accuracy = model.evaluate(test_images, test_labels, verbose=1)\n",
        "print('\\n', 'Test_Accuracy:-', accuracy[1])"
      ],
      "metadata": {
        "id": "mHbgBrZe5Hqh"
      },
      "execution_count": null,
      "outputs": []
    },
    {
      "cell_type": "markdown",
      "metadata": {
        "id": "sSoNNG_T7PkT"
      },
      "source": [
        "<b> Plotting the confusion matrix"
      ]
    },
    {
      "cell_type": "code",
      "source": [
        "from sklearn.metrics import classification_report\n",
        "from sklearn.metrics import confusion_matrix\n",
        "\n",
        "pred = model.predict(test_images)\n",
        "pred = np.argmax(pred,axis = 1) \n",
        "y_true = np.argmax(test_labels,axis = 1)\n",
        "\n",
        "#Printing the classification report\n",
        "print(classification_report(y_true,pred))\n",
        "\n",
        "#Plotting the heatmap using confusion matrix\n",
        "cm = confusion_matrix(y_true,pred)\n",
        "plt.figure(figsize=(8,5))\n",
        "sns.heatmap(cm, annot=True,  fmt='.0f', xticklabels=['Uninfected', 'Parasitized'], yticklabels=['Uninfected', 'Parasitized'])\n",
        "plt.ylabel('Actual')\n",
        "plt.xlabel('Predicted')\n",
        "plt.show()"
      ],
      "metadata": {
        "id": "mwY1yx095NN5"
      },
      "execution_count": null,
      "outputs": []
    },
    {
      "cell_type": "markdown",
      "metadata": {
        "id": "eWq4jyPL7f5a"
      },
      "source": [
        "<b>Plotting the train and validation curves"
      ]
    },
    {
      "cell_type": "code",
      "metadata": {
        "id": "U3h5gAwyW05u"
      },
      "source": [
        "# function to plot train and validation accuracy \n",
        "def plot_accuracy(history):\n",
        "    N = len(history.history[\"accuracy\"])\n",
        "    plt.figure(figsize=(7,7))\n",
        "    plt.plot(np.arange(0, N), history.history[\"accuracy\"], label=\"train_accuracy\", ls='--')\n",
        "    plt.plot(np.arange(0, N), history.history[\"val_accuracy\"], label=\"val_accuracy\", ls='--')\n",
        "    plt.title(\"Accuracy vs Epoch\")\n",
        "    plt.xlabel(\"Epochs\")\n",
        "    plt.ylabel(\"Accuracy\")\n",
        "    plt.legend(loc=\"upper left\")"
      ],
      "execution_count": null,
      "outputs": []
    },
    {
      "cell_type": "code",
      "source": [
        "plot_accuracy(history)"
      ],
      "metadata": {
        "id": "PnxxiR-T5PsQ"
      },
      "execution_count": null,
      "outputs": []
    },
    {
      "cell_type": "markdown",
      "metadata": {
        "id": "AGOtxZ10fEIn"
      },
      "source": [
        "\n",
        "\n",
        "* Here we can clearly observe that the training and valiation accuracy are increasing \n",
        "* And we can also notice that validation accuracy is slightly higher than the train accuracy"
      ]
    },
    {
      "cell_type": "markdown",
      "metadata": {
        "id": "dCDgxiFnXSek"
      },
      "source": [
        "So now let's try to build another model with few more add on layers and try to check if we can try to improve the model. Therefore try to build a model by adding few layers if required and altering the activation functions."
      ]
    },
    {
      "cell_type": "markdown",
      "metadata": {
        "id": "2tJeklwR77rs"
      },
      "source": [
        "###<b> Model 1\n",
        "####<b> Trying to improve the performance of our model by adding new layers\n"
      ]
    },
    {
      "cell_type": "code",
      "metadata": {
        "id": "v3in8FDCOND9"
      },
      "source": [
        "#Clearing backend\n",
        "from tensorflow.keras import backend\n",
        "from tensorflow.keras.utils import to_categorical\n",
        "from tensorflow.keras.models import Sequential\n",
        "from tensorflow.keras.layers import Conv2D,MaxPooling2D,Dense,Flatten,Dropout  \n",
        "from tensorflow.keras.callbacks import EarlyStopping, ModelCheckpoint\n",
        "from random import shuffle\n",
        "\n",
        "backend.clear_session()\n",
        "#Fixing the seed for random number generators so that we can ensure we receive the same output everytime\n",
        "np.random.seed(42)\n",
        "import random\n",
        "random.seed(42)\n",
        "tf.random.set_seed(42)"
      ],
      "execution_count": null,
      "outputs": []
    },
    {
      "cell_type": "markdown",
      "metadata": {
        "id": "DT99NdnzZW3n"
      },
      "source": [
        "####<b> Building the Model"
      ]
    },
    {
      "cell_type": "code",
      "metadata": {
        "id": "4TaSet9DONGV"
      },
      "source": [
        "#creating sequential model\n",
        "model1=Sequential()\n",
        "\n",
        "# Build the model here\n",
        "\n",
        "\n",
        "model1.summary()"
      ],
      "execution_count": null,
      "outputs": []
    },
    {
      "cell_type": "markdown",
      "metadata": {
        "id": "S6cTCOAVZZpI"
      },
      "source": [
        "####<b> Compiling the model"
      ]
    },
    {
      "cell_type": "code",
      "metadata": {
        "id": "JWcQhKidONIr"
      },
      "source": [
        "model1.compile(loss=__________, optimizer=_______, metrics=['accuracy'])"
      ],
      "execution_count": null,
      "outputs": []
    },
    {
      "cell_type": "markdown",
      "metadata": {
        "id": "2PSskadUZhUt"
      },
      "source": [
        "<b> Using Callbacks"
      ]
    },
    {
      "cell_type": "code",
      "metadata": {
        "id": "Z4_T2_sKONMA"
      },
      "source": [
        "callbacks = [EarlyStopping(monitor='val_loss', patience=2),\n",
        "             ModelCheckpoint('.mdl_wts.hdf5', monitor='val_loss', save_best_only=True)]"
      ],
      "execution_count": null,
      "outputs": []
    },
    {
      "cell_type": "markdown",
      "metadata": {
        "id": "VYLgQK9DZkoc"
      },
      "source": [
        "<b>Fit and Train the model"
      ]
    },
    {
      "cell_type": "code",
      "metadata": {
        "id": "O7S7LmVTZjrd"
      },
      "source": [
        "history1=model1.fit(_____________,__________,batch_size=______,callbacks=callbacks,  validation_split=______,epochs=______,verbose=1)"
      ],
      "execution_count": null,
      "outputs": []
    },
    {
      "cell_type": "markdown",
      "metadata": {
        "id": "bHABkGRzZwyt"
      },
      "source": [
        "####<b> Evaluating the model"
      ]
    },
    {
      "cell_type": "code",
      "metadata": {
        "id": "yie1Z-R6Zjt_"
      },
      "source": [
        "accuracy1 = model1.evaluate(_________, _____________, verbose=1)\n",
        "print('\\n', 'Test_Accuracy:-', accuracy1[1])"
      ],
      "execution_count": null,
      "outputs": []
    },
    {
      "cell_type": "markdown",
      "metadata": {
        "id": "cCJEZ6cqZywk"
      },
      "source": [
        "<b> Plotting the confusion matrix"
      ]
    },
    {
      "cell_type": "code",
      "metadata": {
        "id": "YmuJFfUjZjws"
      },
      "source": [
        ""
      ],
      "execution_count": null,
      "outputs": []
    },
    {
      "cell_type": "markdown",
      "metadata": {
        "id": "roDugWeKaVDW"
      },
      "source": [
        "<b> Plotting the Train and validation curves"
      ]
    },
    {
      "cell_type": "code",
      "metadata": {
        "id": "JakeVNnbZjzh"
      },
      "source": [
        ""
      ],
      "execution_count": null,
      "outputs": []
    },
    {
      "cell_type": "markdown",
      "metadata": {
        "id": "Zsx7jVjaiO9V"
      },
      "source": [
        "####<b>Think about it:</b><br>\n",
        "Now let's build a model with LeakyRelu as the activation function  \n",
        "\n",
        "*  Can the model performance be improved if we change our activation function to LeakyRelu?\n",
        "*  Can BatchNormalization improve our model?\n",
        "\n",
        "Let us try to build a model using BatchNormalization and using LeakyRelu as our activation function."
      ]
    },
    {
      "cell_type": "markdown",
      "metadata": {
        "id": "JU4qr7amiXds"
      },
      "source": [
        "###<b> Model 2 with Batch Normalization"
      ]
    },
    {
      "cell_type": "code",
      "metadata": {
        "id": "fOXd_ciyZj2n"
      },
      "source": [
        "#Clearing backend\n",
        "from tensorflow.keras import backend\n",
        "backend.clear_session()\n",
        "\n",
        "#Fixing the seed for random number generators\n",
        "np.random.seed(42)\n",
        "import random\n",
        "random.seed(42)\n",
        "tf.random.set_seed(42)"
      ],
      "execution_count": null,
      "outputs": []
    },
    {
      "cell_type": "markdown",
      "metadata": {
        "id": "1kDMUu-U8vV3"
      },
      "source": [
        "####<b> Building the Model"
      ]
    },
    {
      "cell_type": "code",
      "metadata": {
        "id": "uJBcwhtbiu0l"
      },
      "source": [
        "model2 = Sequential()\n",
        "model2.add(Conv2D(32, (3,3), input_shape=(64, 64, 3), padding='same'))\n",
        "\n",
        "'''\n",
        "\n",
        "Complete this model using BatchNormalization layers and by using LeakyRelu as the activation function\n",
        "\n",
        "\n",
        "'''\n",
        "\n",
        "adam = optimizers.Adam(learning_rate=0.001)\n",
        "\n",
        "model2.summary()"
      ],
      "execution_count": null,
      "outputs": []
    },
    {
      "cell_type": "markdown",
      "metadata": {
        "id": "t9WQ7-cOLIQy"
      },
      "source": [
        "####<b>Compiling the model"
      ]
    },
    {
      "cell_type": "code",
      "metadata": {
        "id": "6SiRoyZ7LHSL"
      },
      "source": [
        "model2.compile(loss=\"binary_crossentropy\", optimizer=adam, metrics = ['accuracy'])"
      ],
      "execution_count": null,
      "outputs": []
    },
    {
      "cell_type": "markdown",
      "metadata": {
        "id": "XOVzX0WTDUEy"
      },
      "source": [
        "<b> Using callbacks"
      ]
    },
    {
      "cell_type": "code",
      "metadata": {
        "id": "jC0FcITongxx"
      },
      "source": [
        "'''\n",
        "\n",
        "create the callbacks similarly as done in the base model\n",
        "As callbacks will help us in saving our checkpoints and stopping at an accuracy where the model doesnot seem to improve\n",
        "\n",
        "'''"
      ],
      "execution_count": null,
      "outputs": []
    },
    {
      "cell_type": "markdown",
      "metadata": {
        "id": "Rxj3AcS0Dqm8"
      },
      "source": [
        "<b>Fit and train the model"
      ]
    },
    {
      "cell_type": "code",
      "metadata": {
        "id": "fMy-4IGajL31"
      },
      "source": [
        "history2 = model2.fit(train_images,train_labels,batch_size=32,callbacks=callbacks,validation_split=0.2,epochs=20,verbose=1)"
      ],
      "execution_count": null,
      "outputs": []
    },
    {
      "cell_type": "markdown",
      "metadata": {
        "id": "j9DkuwVYDtc3"
      },
      "source": [
        "<b>Plotting the train and validation accuracy"
      ]
    },
    {
      "cell_type": "code",
      "metadata": {
        "id": "ILu-oHB_jxGY"
      },
      "source": [
        "# plotting the accuracies\n"
      ],
      "execution_count": null,
      "outputs": []
    },
    {
      "cell_type": "markdown",
      "metadata": {
        "id": "mSREnGkgDz6N"
      },
      "source": [
        "####<b>Evaluating the model"
      ]
    },
    {
      "cell_type": "code",
      "metadata": {
        "id": "pZGH8gE089Gx"
      },
      "source": [
        "# Evaluate the model to calculate the accuracy\n",
        "accuracy = model2.evaluate(________, ______________, verbose=1)\n",
        "print('\\n', 'Test_Accuracy:-', accuracy[1])"
      ],
      "execution_count": null,
      "outputs": []
    },
    {
      "cell_type": "markdown",
      "metadata": {
        "id": "RiIQnwKaJ27O"
      },
      "source": [
        "#####<b>Observations and insights: ____"
      ]
    },
    {
      "cell_type": "markdown",
      "metadata": {
        "id": "YDL1BQZ7_JxS"
      },
      "source": [
        "<b> Generate the classification report and confusion matrix "
      ]
    },
    {
      "cell_type": "code",
      "metadata": {
        "id": "pB-CYdwC9V8P"
      },
      "source": [
        "from sklearn.metrics import classification_report\n",
        "from sklearn.metrics import confusion_matrix\n",
        "\n",
        "pred = model2.predict(_______)\n",
        "pred = np.argmax(pred,axis = 1) \n",
        "y_true = np.argmax(________________,axis = 1)\n",
        "#Printing the classification report\n",
        "print(classification_report(______,_______))\n",
        "\n",
        "#Plotting the heatmap using confusion matrix\n",
        "cm = confusion_matrix(_____,_____)\n",
        "plt.figure(figsize=(8,5))\n",
        "sns.heatmap(cm, annot=True,  fmt='.0f', xticklabels=['Uninfected', 'Parasitized'], yticklabels=['Uninfected', 'Parasitized'])\n",
        "plt.ylabel('Actual')\n",
        "plt.xlabel('Predicted')\n",
        "plt.show()"
      ],
      "execution_count": null,
      "outputs": []
    },
    {
      "cell_type": "markdown",
      "metadata": {
        "id": "aUwBBVzuijlU"
      },
      "source": [
        "####**Think About It :**<br>\n",
        "\n",
        "* Can we improve the model with Image Data Augmentation?\n",
        "* References to image data augmentation can be seen below:\n",
        "  *   [Image Augmentation for Computer Vision](https://www.mygreatlearning.com/blog/understanding-data-augmentation/)\n",
        "  *   [How to Configure Image Data Augmentation in Keras?](https://machinelearningmastery.com/how-to-configure-image-data-augmentation-when-training-deep-learning-neural-networks/)\n",
        "\n",
        "\n",
        "\n"
      ]
    },
    {
      "cell_type": "markdown",
      "metadata": {
        "id": "DYVJZ0Psi0D0"
      },
      "source": [
        "###<b>Model 3 with Data Augmentation"
      ]
    },
    {
      "cell_type": "code",
      "metadata": {
        "id": "1ddfrhcLihpz"
      },
      "source": [
        "#Clearing backend\n",
        "from tensorflow.keras import backend\n",
        "backend.clear_session()\n",
        "#Fixing the seed for random number generators\n",
        "np.random.seed(42)\n",
        "import random\n",
        "random.seed(42)\n",
        "tf.random.set_seed(42)"
      ],
      "execution_count": null,
      "outputs": []
    },
    {
      "cell_type": "markdown",
      "metadata": {
        "id": "NqOnCq3FZ6JG"
      },
      "source": [
        "####<b> Using image data generator"
      ]
    },
    {
      "cell_type": "code",
      "metadata": {
        "id": "MnvWygv4aAZc"
      },
      "source": [
        "from sklearn.model_selection import train_test_split\n",
        "X_train, X_val, y_train, y_val = train_test_split(train_images, train_labels, test_size=0.2, random_state=42)\n",
        "from tensorflow.keras.preprocessing.image import ImageDataGenerator\n",
        "\n",
        "# Using ImageDataGenerator to generate images\n",
        "\n",
        "train_datagen = ImageDataGenerator(horizontal_flip=True, \n",
        "                                  zoom_range = 0.5, rotation_range=30)\n",
        "val_datagen  = ImageDataGenerator()\n",
        "\n",
        "# Flowing training images using train_datagen generator\n",
        "train_generator = train_datagen.flow(x = _______, y = __________, batch_size=64, seed=42, shuffle=True)     \n",
        "\n",
        "# Flowing validation images using val_datagen generator\n",
        "val_generator =  val_datagen.flow(x= _________, y = _________, batch_size=64, seed=42, shuffle=True)"
      ],
      "execution_count": null,
      "outputs": []
    },
    {
      "cell_type": "markdown",
      "metadata": {
        "id": "_2cJN07Bbofx"
      },
      "source": [
        "####**Think About It :**<br>\n",
        "\n",
        "*  Check if the performance of the model can be improved by changing different parameters in the ImageDataGenerator.\n",
        "\n"
      ]
    },
    {
      "cell_type": "markdown",
      "metadata": {
        "id": "341Ilg5McowX"
      },
      "source": [
        "####<B>Visualizing Augmented images"
      ]
    },
    {
      "cell_type": "code",
      "metadata": {
        "id": "Ws3BE91RbFBy"
      },
      "source": [
        "#Creating an iterable for images and labels from the training data\n",
        "images, labels = next(train_generator)\n",
        "\n",
        "#Plotting 16 images from the training data\n",
        "fig, axes = plt.subplots(4, 4, figsize = (16, 8))\n",
        "fig.set_size_inches(16, 16)\n",
        "for (image, label, ax) in zip(images, labels, axes.flatten()):\n",
        "    ax.imshow(image)\n",
        "    if label[1] == 1: \n",
        "        ax.set_title('parasitized')\n",
        "    else:\n",
        "        ax.set_title('uninfected')\n",
        "    ax.axis('off')"
      ],
      "execution_count": null,
      "outputs": []
    },
    {
      "cell_type": "markdown",
      "metadata": {
        "id": "ZfCMCaAZdK3o"
      },
      "source": [
        "#####<b>Observations and insights: ____"
      ]
    },
    {
      "cell_type": "markdown",
      "metadata": {
        "id": "BrpS4Azamjs4"
      },
      "source": [
        "####<b>Building the Model"
      ]
    },
    {
      "cell_type": "code",
      "metadata": {
        "id": "YVELJI8uihsz"
      },
      "source": [
        "model3 = Sequential()\n",
        "\n",
        "# Build the model here\n",
        "\n",
        "# use this as the optimizer\n",
        "adam = optimizers.Adam(learning_rate=0.001)\n",
        "\n",
        "model3.compile(loss=________________, optimizer=adam, metrics = ['accuracy'])\n",
        "model3.summary()"
      ],
      "execution_count": null,
      "outputs": []
    },
    {
      "cell_type": "markdown",
      "metadata": {
        "id": "j-HrtTMJnEPl"
      },
      "source": [
        "<b>Using Callbacks"
      ]
    },
    {
      "cell_type": "code",
      "metadata": {
        "id": "xMWPxLvdihvf"
      },
      "source": [
        "callbacks = [EarlyStopping(monitor='val_loss', patience=2),\n",
        "             ModelCheckpoint('.mdl_wts.hdf5', monitor='val_loss', save_best_only=True)]"
      ],
      "execution_count": null,
      "outputs": []
    },
    {
      "cell_type": "markdown",
      "metadata": {
        "id": "SEeOIRrCnMBh"
      },
      "source": [
        "<b> Fit and Train the model"
      ]
    },
    {
      "cell_type": "code",
      "metadata": {
        "id": "u_2dSGYMihyk"
      },
      "source": [
        "history3 = model3.fit(train_generator, \n",
        "                                  validation_data=val_generator,\n",
        "                                  batch_size=_____,callbacks=___________,\n",
        "                                  epochs=20,verbose=1)"
      ],
      "execution_count": null,
      "outputs": []
    },
    {
      "cell_type": "markdown",
      "metadata": {
        "id": "8EFWVEUKoM1U"
      },
      "source": [
        "####<B>Evaluating the model"
      ]
    },
    {
      "cell_type": "markdown",
      "metadata": {
        "id": "8twGIoxWnrCb"
      },
      "source": [
        "<b>Plot the train and validation accuracy"
      ]
    },
    {
      "cell_type": "code",
      "metadata": {
        "id": "HjB4IecBih2K"
      },
      "source": [
        "# plotting the accuracies\n",
        "plot_accuracy(_________)"
      ],
      "execution_count": null,
      "outputs": []
    },
    {
      "cell_type": "code",
      "metadata": {
        "id": "i9sBTSvL_Uz-"
      },
      "source": [
        "# Evaluating the model on test data\n",
        "accuracy3 = _________.evaluate(________, ___________, verbose=1)\n",
        "print('\\n', 'Test_Accuracy:-', accuracy3[1])"
      ],
      "execution_count": null,
      "outputs": []
    },
    {
      "cell_type": "markdown",
      "metadata": {
        "id": "x_VDQxXwoe6u"
      },
      "source": [
        "<B>Plotting the classification report and confusion matrix"
      ]
    },
    {
      "cell_type": "code",
      "metadata": {
        "id": "RxdOpuzJoj8l"
      },
      "source": [
        ""
      ],
      "execution_count": null,
      "outputs": []
    },
    {
      "cell_type": "markdown",
      "metadata": {
        "id": "obzJSEF5ypj-"
      },
      "source": [
        "<b> Now let us try to use a pretrained model like VGG16 and check how it performs on our data."
      ]
    },
    {
      "cell_type": "markdown",
      "metadata": {
        "id": "ra-GUCjbLHGg"
      },
      "source": [
        "### **Pre-trained model (VGG16)**"
      ]
    },
    {
      "cell_type": "code",
      "metadata": {
        "id": "5dH2_XWNLyac"
      },
      "source": [
        "#Clearing backend\n",
        "from tensorflow.keras import backend\n",
        "backend.clear_session()\n",
        "#Fixing the seed for random number generators\n",
        "np.random.seed(42)\n",
        "import random\n",
        "random.seed(42)\n",
        "tf.random.set_seed(42)"
      ],
      "execution_count": null,
      "outputs": []
    },
    {
      "cell_type": "code",
      "metadata": {
        "id": "bCtAgs1FAxhp"
      },
      "source": [
        "from tensorflow.keras.applications.vgg16 import VGG16\n",
        "from tensorflow.keras import Model\n",
        "\n",
        "vgg = VGG16(include_top=_________, weights='imagenet', input_shape=(64,64,3))\n",
        "vgg.summary()"
      ],
      "execution_count": null,
      "outputs": []
    },
    {
      "cell_type": "code",
      "metadata": {
        "id": "iDQ7RswtA0jf"
      },
      "source": [
        "transfer_layer = vgg.get_layer('block5_pool')\n",
        "vgg.trainable=False\n",
        "\n",
        "# Add classification layers on top of it  \n",
        " \n",
        "x = Flatten()(transfer_layer.output) #Flatten the output from the 3rd block of the VGG16 model\n",
        "x = Dense(256, activation='relu')(x)\n",
        "\n",
        "# Similarly add a dense layer with 128 neurons\n",
        "x = Dropout(0.3)(x)\n",
        "\n",
        "# Add a dense layer with 64 neurons\n",
        "\n",
        "x = BatchNormalization()(x)\n",
        "pred = Dense(______, activation='softmax')(_____)\n",
        "\n",
        "model4 = Model(vgg.input, pred) #Initializing the model"
      ],
      "execution_count": null,
      "outputs": []
    },
    {
      "cell_type": "markdown",
      "metadata": {
        "id": "Mhoug92KFWPa"
      },
      "source": [
        "####<b>Compiling the model"
      ]
    },
    {
      "cell_type": "code",
      "metadata": {
        "id": "CdJ8C0L5Lkyt"
      },
      "source": [
        "# Compiling the model "
      ],
      "execution_count": null,
      "outputs": []
    },
    {
      "cell_type": "markdown",
      "metadata": {
        "id": "rBPzjtxcFLQt"
      },
      "source": [
        "<b> using callbacks"
      ]
    },
    {
      "cell_type": "code",
      "metadata": {
        "id": "qS3skmQBR4if"
      },
      "source": [
        "# Adding Callbacks to the model"
      ],
      "execution_count": null,
      "outputs": []
    },
    {
      "cell_type": "markdown",
      "metadata": {
        "id": "4_ZeobGmFIOF"
      },
      "source": [
        "<b>Fit and Train the model"
      ]
    },
    {
      "cell_type": "code",
      "metadata": {
        "id": "V6sSx39uL1mS"
      },
      "source": [
        "#Fitting the model and running the model for 10 epochs\n",
        "history4 = model4.fit(\n",
        "            __________, ______________,\n",
        "            epochs=_________,\n",
        "            callbacks=_____________,\n",
        "            batch_size=_________,\n",
        "            validation_split=0.2,\n",
        "            verbose=1\n",
        ")"
      ],
      "execution_count": null,
      "outputs": []
    },
    {
      "cell_type": "markdown",
      "metadata": {
        "id": "O0WI9dvDFBaR"
      },
      "source": [
        "<b>Plot the train and validation accuracy"
      ]
    },
    {
      "cell_type": "code",
      "metadata": {
        "id": "mKmS2XyiMBqb"
      },
      "source": [
        "# plotting the accuracies\n",
        "plot_accuracy(__________)"
      ],
      "execution_count": null,
      "outputs": []
    },
    {
      "cell_type": "markdown",
      "metadata": {
        "id": "mb3jUduI0BNs"
      },
      "source": [
        "#####**Observations and insights: _____**\n",
        "\n",
        "*   What can be observed from the validation and train curves?"
      ]
    },
    {
      "cell_type": "markdown",
      "metadata": {
        "id": "Ykl7xLODEoix"
      },
      "source": [
        "####<b> Evaluating the model"
      ]
    },
    {
      "cell_type": "code",
      "metadata": {
        "id": "RxcgkSoivwWf"
      },
      "source": [
        "# Evaluating the model on test data\n"
      ],
      "execution_count": null,
      "outputs": []
    },
    {
      "cell_type": "markdown",
      "metadata": {
        "id": "r_lr-dUHE77F"
      },
      "source": [
        "<b>Plotting the classification report and confusion matrix"
      ]
    },
    {
      "cell_type": "code",
      "metadata": {
        "id": "jns2wf2HMBto"
      },
      "source": [
        "# Plot the confusion matrix and generate a classification report for the model"
      ],
      "execution_count": null,
      "outputs": []
    },
    {
      "cell_type": "markdown",
      "metadata": {
        "id": "MEZPA_mN0tUo"
      },
      "source": [
        "####<b>Think about it:</b>\n",
        "*  What observations and insights can be drawn from the confusion matrix and classification report?\n",
        "*  Choosw the model with the best accuracy scores from all the above models and save it as a final model.\n"
      ]
    },
    {
      "cell_type": "markdown",
      "metadata": {
        "id": "Smzi8y5AEYIi"
      },
      "source": [
        "###<b> Observations and Conclusions drawn from the final model: _____\n",
        "\n"
      ]
    },
    {
      "cell_type": "markdown",
      "metadata": {
        "id": "yo6IpgOZ1n-g"
      },
      "source": [
        "**Improvements that can be done:**<br>\n",
        "\n",
        "\n",
        "*  Can the model performance be improved using other pre-trained models or different CNN architecture?\n",
        "*  You can try to build a model using these HSV images and compare them with your other models."
      ]
    },
    {
      "cell_type": "markdown",
      "metadata": {
        "id": "mJB6yf2EczFk"
      },
      "source": [
        "### **Insights**\n",
        "\n",
        "####**Refined insights**:\n",
        "- What are the most meaningful insights from the data relevant to the problem?\n",
        "\n",
        "####**Comparison of various techniques and their relative performance**:\n",
        "- How do different techniques perform? Which one is performing relatively better? Is there scope to improve the performance further?\n",
        "\n",
        "####**Proposal for the final solution design**:\n",
        "- What model do you propose to be adopted? Why is this the best solution to adopt?"
      ]
    }
  ]
}