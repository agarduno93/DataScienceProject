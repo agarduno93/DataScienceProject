{
 "cells": [
  {
   "cell_type": "markdown",
   "metadata": {
    "id": "vGsTRO4XBWKn"
   },
   "source": [
    "#<b>Milestone 2"
   ]
  },
  {
   "cell_type": "markdown",
   "metadata": {
    "id": "UC8-yLUUCcWh"
   },
   "source": [
    "###<b>Loading libraries</b>"
   ]
  },
  {
   "cell_type": "code",
   "execution_count": 3,
   "metadata": {},
   "outputs": [],
   "source": [
    "#!pip install tensorflow"
   ]
  },
  {
   "cell_type": "code",
   "execution_count": 8,
   "metadata": {
    "id": "qprkPYi_AmMT"
   },
   "outputs": [],
   "source": [
    "#Importing libraries required to load the data\n",
    "\n",
    "import zipfile\n",
    "import os\n",
    "from PIL import Image\n",
    "import numpy as np\n",
    "import pandas as pd\n",
    "import matplotlib.pyplot as plt\n",
    "import seaborn as sns\n",
    "\n",
    "from sklearn.model_selection import train_test_split\n",
    "from sklearn.preprocessing import MinMaxScaler\n",
    "\n",
    "import tensorflow as tf\n",
    "from tensorflow.keras.models import Sequential\n",
    "from tensorflow.keras.layers import Dense, Conv2D, MaxPool2D, BatchNormalization, Dropout, Flatten, LeakyReLU, GlobalAvgPool2D\n",
    "from tensorflow.keras.utils import to_categorical\n",
    "from tensorflow.keras import optimizers\n",
    "\n",
    "#to ignore warnings\n",
    "import warnings\n",
    "warnings.filterwarnings('ignore')\n",
    "\n",
    "#import aws packages\n",
    "import sagemaker\n",
    "import boto3\n",
    "\n",
    "# Remove the limit from the number of displayed columns and rows. It helps to see the entire dataframe while printing it\n",
    "pd.set_option(\"display.max_columns\", None)\n",
    "pd.set_option(\"display.max_rows\", 200)"
   ]
  },
  {
   "cell_type": "markdown",
   "metadata": {
    "id": "nCqJk2XpCnJi"
   },
   "source": [
    "### <b>Let us load the data</b>"
   ]
  },
  {
   "cell_type": "markdown",
   "metadata": {
    "id": "IW3fDq7gF4Hw"
   },
   "source": [
    "The extracted folder has different folders for train and test data which further contains the different sizes of images for parasitized and uninfected cells within the respective folder name. \n",
    "\n",
    "The size of all images must be the same and should be converted to 4D arrays so that they can be used as an input for the convolutional neural network. Also, we need to create the labels for both types of images to be able to train and test the model. \n",
    "\n",
    "Let's do the same for the training data first and then we will use the same code for the test data as well."
   ]
  },
  {
   "cell_type": "code",
   "execution_count": 9,
   "metadata": {
    "id": "SjK02uF1DXdW"
   },
   "outputs": [],
   "source": [
    "#buckets created manuallly in s3 and unzippped prior to this step\n",
    "bucket = 'kdfdlkfasdklfjaslkdfjkalsdjfdasklflakdjflks'\n",
    "train_dir = 'train' #prefix for the training directory\n",
    "\n",
    "#Size of image so that each image has the same size\n",
    "SIZE = 64\n",
    "\n",
    "#Empty list to store the training images after they are converted to NumPy arrays\n",
    "train_images = []\n",
    "\n",
    "#Empty list to store the training labels (0 - uninfected, 1 - parasitized)\n",
    "train_labels = []\n",
    "\n",
    "from sagemaker import get_execution_role\n",
    "sagemaker_session = sagemaker.Session()\n",
    "role = get_execution_role()\n",
    "#print(role) - check role and change policy is getting access denied error\n",
    "\n",
    "#set up the connection to s3 bucket\n",
    "conn = boto3.client('s3') #limits to pulling 1,000 files, need multiple calls to API\n",
    "paginator = conn.get_paginator('list_objects') #make multiple calls\n",
    "\n",
    "#additional prefixes within the training directory\n",
    "for folder_name in ['/parasitized/', '/uninfected/']:\n",
    "\n",
    "    #initialize key list\n",
    "    key_list = [ ]\n",
    "\n",
    "    #Path of the folder\n",
    "    contents = paginator.paginate(Bucket=bucket, Prefix=train_dir+folder_name).build_full_result()['Contents'] #extract list of images\n",
    "    for f in contents:\n",
    "        key_list.append(f['Key'])\n",
    "    \n",
    "    #access images from list, skip over first two keys which are \"directories\"\n",
    "    #skipped over directories: 'unzipped/cell_images/train/', 'unzipped/cell_images/train/parasitized/'\n",
    "    for i, key in enumerate(key_list):\n",
    "        try:\n",
    "            s3_object = conn.get_object(Bucket=bucket, Key=key)\n",
    "            body = s3_object['Body']\n",
    "            image = Image.open(body)\n",
    "            image = image.resize((SIZE, SIZE))\n",
    "            train_images.append(np.array(image))\n",
    "\n",
    "            #Creating labels for parasitized and uninfected images\n",
    "            if folder_name=='/parasitized/':\n",
    "                train_labels.append(1)\n",
    "            else:\n",
    "                train_labels.append(0)\n",
    "        except Exception:\n",
    "            pass\n",
    "\n",
    "#Converting lists to arrays\n",
    "train_images = np.array(train_images)\n",
    "train_labels = np.array(train_labels)"
   ]
  },
  {
   "cell_type": "code",
   "execution_count": 10,
   "metadata": {
    "id": "My6pm3AFDXk9"
   },
   "outputs": [],
   "source": [
    "#buckets created manuallly in s3 and unzippped prior to this step\n",
    "bucket = 'kdfdlkfasdklfjaslkdfjkalsdjfdasklflakdjflks'\n",
    "test_dir = 'test' #prefix for the training directory\n",
    "\n",
    "#Size of image so that each image has the same size\n",
    "SIZE = 64\n",
    "\n",
    "#Empty list to store the training images after they are converted to NumPy arrays\n",
    "test_images = []\n",
    "\n",
    "#Empty list to store the training labels (0 - uninfected, 1 - parasitized)\n",
    "test_labels = []\n",
    "\n",
    "from sagemaker import get_execution_role\n",
    "sagemaker_session = sagemaker.Session()\n",
    "role = get_execution_role()\n",
    "#print(role) - check role and change policy is getting access denied error\n",
    "\n",
    "#set up the connection to s3 bucket\n",
    "conn = boto3.client('s3') #limits to pulling 1,000 files, need multiple calls to API\n",
    "paginator = conn.get_paginator('list_objects') #make multiple calls\n",
    "\n",
    "#additional prefixes within the training directory\n",
    "for folder_name in ['/parasitized/', '/uninfected/']:\n",
    "\n",
    "    #initialize key list\n",
    "    key_list = [ ]\n",
    "\n",
    "    #Path of the folder\n",
    "    contents = paginator.paginate(Bucket=bucket, Prefix=test_dir+folder_name).build_full_result()['Contents'] #extract list of images\n",
    "    for f in contents:\n",
    "        key_list.append(f['Key'])\n",
    "    \n",
    "    #access images from list, skip over first two keys which are \"directories\"\n",
    "    #skipped over directories: 'unzipped/cell_images/train/', 'unzipped/cell_images/train/parasitized/'\n",
    "    for i, key in enumerate(key_list):\n",
    "        try:\n",
    "            s3_object = conn.get_object(Bucket=bucket, Key=key)\n",
    "            body = s3_object['Body']\n",
    "            image = Image.open(body)\n",
    "            image = image.resize((SIZE, SIZE))\n",
    "            test_images.append(np.array(image))\n",
    "\n",
    "            #Creating labels for parasitized and uninfected images\n",
    "            if folder_name=='/parasitized/':\n",
    "                test_labels.append(1)\n",
    "            else:\n",
    "                test_labels.append(0)\n",
    "        except Exception:\n",
    "            pass\n",
    "\n",
    "#Converting lists to arrays\n",
    "test_images = np.array(test_images)\n",
    "test_labels = np.array(test_labels)"
   ]
  },
  {
   "cell_type": "markdown",
   "metadata": {
    "id": "7U71xb2XJe0t"
   },
   "source": [
    "###<b>Normalize the images"
   ]
  },
  {
   "cell_type": "code",
   "execution_count": 11,
   "metadata": {
    "id": "HqzvvNS9IvsP"
   },
   "outputs": [],
   "source": [
    "train_images = (train_images/255).astype('float32')\n",
    "test_images = (test_images/255).astype('float32')"
   ]
  },
  {
   "cell_type": "markdown",
   "metadata": {
    "id": "9txGUBdSNT7J"
   },
   "source": [
    "As we have done our preprocessing required and performed some EDA to gain some insights in our Milestone-1 so now we will try to build our model and try evaluating its performance."
   ]
  },
  {
   "cell_type": "markdown",
   "metadata": {
    "id": "vtayck2-Pm3G"
   },
   "source": [
    "###<B>One Hot Encoding on the train and test labels"
   ]
  },
  {
   "cell_type": "code",
   "execution_count": 13,
   "metadata": {
    "id": "xDWl6dVtOMom"
   },
   "outputs": [],
   "source": [
    "# Encoding Train Labels\n",
    "train_labels=to_categorical(train_labels,2)\n",
    "# Similarly let us try to encode test labels\n",
    "test_labels=to_categorical(test_labels,2)"
   ]
  },
  {
   "cell_type": "markdown",
   "metadata": {
    "id": "G4_ZzqDp8T5w"
   },
   "source": [
    "### **Base Model**\n",
    "\n",
    "**Note:** The Base Model has been fully built and evaluated with all outputs shown to give an idea about the process of the creation and evaluation of the performance of a CNN architecture. A similar process can be followed in iterating to build better-performing CNN architectures."
   ]
  },
  {
   "cell_type": "markdown",
   "metadata": {
    "id": "qTMSr0Xw6x3b"
   },
   "source": [
    "####<b> Importing the required libraries"
   ]
  },
  {
   "cell_type": "code",
   "execution_count": 14,
   "metadata": {
    "id": "X8eWxdyDp_ZC"
   },
   "outputs": [],
   "source": [
    "#Clearing backend\n",
    "from tensorflow.keras import backend\n",
    "from tensorflow.keras.utils import to_categorical\n",
    "from tensorflow.keras.models import Sequential\n",
    "from tensorflow.keras.layers import Conv2D,MaxPooling2D,Dense,Flatten,Dropout  \n",
    "from tensorflow.keras.callbacks import EarlyStopping, ModelCheckpoint\n",
    "from random import shuffle\n",
    "\n",
    "backend.clear_session()\n",
    "#Fixing the seed for random number generators so that we can ensure we receive the same output everytime\n",
    "np.random.seed(42)\n",
    "import random\n",
    "random.seed(42)\n",
    "tf.random.set_seed(42)"
   ]
  },
  {
   "cell_type": "markdown",
   "metadata": {
    "id": "fmwb4h0h64Km"
   },
   "source": [
    "####<b> Building the model"
   ]
  },
  {
   "cell_type": "code",
   "execution_count": 15,
   "metadata": {
    "id": "3LV1Ad_b4_LK"
   },
   "outputs": [
    {
     "name": "stdout",
     "output_type": "stream",
     "text": [
      "Model: \"sequential\"\n",
      "_________________________________________________________________\n",
      "Layer (type)                 Output Shape              Param #   \n",
      "=================================================================\n",
      "conv2d (Conv2D)              (None, 64, 64, 32)        416       \n",
      "_________________________________________________________________\n",
      "max_pooling2d (MaxPooling2D) (None, 32, 32, 32)        0         \n",
      "_________________________________________________________________\n",
      "dropout (Dropout)            (None, 32, 32, 32)        0         \n",
      "_________________________________________________________________\n",
      "conv2d_1 (Conv2D)            (None, 32, 32, 32)        4128      \n",
      "_________________________________________________________________\n",
      "max_pooling2d_1 (MaxPooling2 (None, 16, 16, 32)        0         \n",
      "_________________________________________________________________\n",
      "dropout_1 (Dropout)          (None, 16, 16, 32)        0         \n",
      "_________________________________________________________________\n",
      "conv2d_2 (Conv2D)            (None, 16, 16, 32)        4128      \n",
      "_________________________________________________________________\n",
      "max_pooling2d_2 (MaxPooling2 (None, 8, 8, 32)          0         \n",
      "_________________________________________________________________\n",
      "dropout_2 (Dropout)          (None, 8, 8, 32)          0         \n",
      "_________________________________________________________________\n",
      "flatten (Flatten)            (None, 2048)              0         \n",
      "_________________________________________________________________\n",
      "dense (Dense)                (None, 512)               1049088   \n",
      "_________________________________________________________________\n",
      "dropout_3 (Dropout)          (None, 512)               0         \n",
      "_________________________________________________________________\n",
      "dense_1 (Dense)              (None, 2)                 1026      \n",
      "=================================================================\n",
      "Total params: 1,058,786\n",
      "Trainable params: 1,058,786\n",
      "Non-trainable params: 0\n",
      "_________________________________________________________________\n"
     ]
    }
   ],
   "source": [
    "#creating sequential model\n",
    "model=Sequential()\n",
    "model.add(Conv2D(filters=32,kernel_size=2,padding=\"same\",activation=\"relu\",input_shape=(64,64,3)))\n",
    "model.add(MaxPooling2D(pool_size=2))\n",
    "model.add(Dropout(0.2))\n",
    "model.add(Conv2D(filters=32,kernel_size=2,padding=\"same\",activation=\"relu\"))\n",
    "model.add(MaxPooling2D(pool_size=2))\n",
    "model.add(Dropout(0.2))\n",
    "model.add(Conv2D(filters=32,kernel_size=2,padding=\"same\",activation=\"relu\"))\n",
    "model.add(MaxPooling2D(pool_size=2))\n",
    "model.add(Dropout(0.2))\n",
    "\n",
    "model.add(Flatten())\n",
    "\n",
    "model.add(Dense(512,activation=\"relu\"))\n",
    "model.add(Dropout(0.4))\n",
    "model.add(Dense(2,activation=\"softmax\"))#2 represent output layer neurons \n",
    "model.summary()"
   ]
  },
  {
   "cell_type": "markdown",
   "metadata": {
    "id": "4Sh0OGP268Qm"
   },
   "source": [
    "####<b> Compiling the model"
   ]
  },
  {
   "cell_type": "code",
   "execution_count": 16,
   "metadata": {
    "id": "fGGRMByKOMyG"
   },
   "outputs": [],
   "source": [
    "model.compile(loss='binary_crossentropy', optimizer='adam', metrics=['accuracy'])"
   ]
  },
  {
   "cell_type": "markdown",
   "metadata": {
    "id": "7Dt8lFvz6_K6"
   },
   "source": [
    "<b> Using Callbacks "
   ]
  },
  {
   "cell_type": "code",
   "execution_count": 17,
   "metadata": {
    "id": "FPwUYX3KOM34"
   },
   "outputs": [],
   "source": [
    "callbacks = [EarlyStopping(monitor='val_loss', patience=2),\n",
    "             ModelCheckpoint('.mdl_wts.hdf5', monitor='val_loss', save_best_only=True)]"
   ]
  },
  {
   "cell_type": "markdown",
   "metadata": {
    "id": "91af114l7DCt"
   },
   "source": [
    "<b> Fit and train our Model"
   ]
  },
  {
   "cell_type": "code",
   "execution_count": 18,
   "metadata": {
    "id": "XysPQsWn5EGq"
   },
   "outputs": [
    {
     "name": "stdout",
     "output_type": "stream",
     "text": [
      "Epoch 1/20\n",
      "624/624 [==============================] - 14s 21ms/step - loss: 0.4124 - accuracy: 0.8081 - val_loss: 0.2427 - val_accuracy: 0.8988\n",
      "Epoch 2/20\n",
      "624/624 [==============================] - 13s 21ms/step - loss: 0.1199 - accuracy: 0.9546 - val_loss: 0.2421 - val_accuracy: 0.9269\n",
      "Epoch 3/20\n",
      "624/624 [==============================] - 13s 21ms/step - loss: 0.0927 - accuracy: 0.9680 - val_loss: 0.1285 - val_accuracy: 0.9692\n",
      "Epoch 4/20\n",
      "624/624 [==============================] - 13s 21ms/step - loss: 0.0747 - accuracy: 0.9754 - val_loss: 0.1034 - val_accuracy: 0.9760\n",
      "Epoch 5/20\n",
      "624/624 [==============================] - 13s 21ms/step - loss: 0.0702 - accuracy: 0.9764 - val_loss: 0.0971 - val_accuracy: 0.9802\n",
      "Epoch 6/20\n",
      "624/624 [==============================] - 13s 21ms/step - loss: 0.0678 - accuracy: 0.9777 - val_loss: 0.1051 - val_accuracy: 0.9742\n",
      "Epoch 7/20\n",
      "624/624 [==============================] - 13s 21ms/step - loss: 0.0623 - accuracy: 0.9796 - val_loss: 0.1072 - val_accuracy: 0.9754\n"
     ]
    }
   ],
   "source": [
    "#Fit the model with min batch size as 32 can tune batch size to some factor of 2^power ] \n",
    "history=model.fit(train_images,train_labels,batch_size=32,callbacks=callbacks,validation_split=0.2,epochs=20,verbose=1)"
   ]
  },
  {
   "cell_type": "markdown",
   "metadata": {
    "id": "Vn7bDXku7Ib8"
   },
   "source": [
    "####<b> Evaluating the model on test data"
   ]
  },
  {
   "cell_type": "code",
   "execution_count": 19,
   "metadata": {
    "id": "mHbgBrZe5Hqh"
   },
   "outputs": [
    {
     "name": "stdout",
     "output_type": "stream",
     "text": [
      "82/82 [==============================] - 1s 6ms/step - loss: 0.0817 - accuracy: 0.9777\n",
      "\n",
      " Test_Accuracy:- 0.9776923060417175\n"
     ]
    }
   ],
   "source": [
    "accuracy = model.evaluate(test_images, test_labels, verbose=1)\n",
    "print('\\n', 'Test_Accuracy:-', accuracy[1])"
   ]
  },
  {
   "cell_type": "markdown",
   "metadata": {
    "id": "sSoNNG_T7PkT"
   },
   "source": [
    "<b> Plotting the confusion matrix"
   ]
  },
  {
   "cell_type": "code",
   "execution_count": 20,
   "metadata": {
    "id": "mwY1yx095NN5"
   },
   "outputs": [
    {
     "name": "stdout",
     "output_type": "stream",
     "text": [
      "              precision    recall  f1-score   support\n",
      "\n",
      "           0       0.98      0.98      0.98      1300\n",
      "           1       0.98      0.98      0.98      1300\n",
      "\n",
      "    accuracy                           0.98      2600\n",
      "   macro avg       0.98      0.98      0.98      2600\n",
      "weighted avg       0.98      0.98      0.98      2600\n",
      "\n"
     ]
    },
    {
     "data": {
      "image/png": "[encoded data removed]",
      "text/plain": [
       "<Figure size 576x360 with 2 Axes>"
      ]
     },
     "metadata": {
      "needs_background": "light"
     },
     "output_type": "display_data"
    }
   ],
   "source": [
    "from sklearn.metrics import classification_report\n",
    "from sklearn.metrics import confusion_matrix\n",
    "\n",
    "pred = model.predict(test_images)\n",
    "pred = np.argmax(pred,axis = 1) \n",
    "y_true = np.argmax(test_labels,axis = 1)\n",
    "\n",
    "#Printing the classification report\n",
    "print(classification_report(y_true,pred))\n",
    "\n",
    "#Plotting the heatmap using confusion matrix\n",
    "cm = confusion_matrix(y_true,pred)\n",
    "plt.figure(figsize=(8,5))\n",
    "sns.heatmap(cm, annot=True,  fmt='.0f', xticklabels=['Uninfected', 'Parasitized'], yticklabels=['Uninfected', 'Parasitized'])\n",
    "plt.ylabel('Actual')\n",
    "plt.xlabel('Predicted')\n",
    "plt.show()"
   ]
  },
  {
   "cell_type": "markdown",
   "metadata": {
    "id": "eWq4jyPL7f5a"
   },
   "source": [
    "<b>Plotting the train and validation curves"
   ]
  },
  {
   "cell_type": "code",
   "execution_count": 21,
   "metadata": {
    "id": "U3h5gAwyW05u"
   },
   "outputs": [],
   "source": [
    "# function to plot train and validation accuracy \n",
    "def plot_accuracy(history):\n",
    "    N = len(history.history[\"accuracy\"])\n",
    "    plt.figure(figsize=(7,7))\n",
    "    plt.plot(np.arange(0, N), history.history[\"accuracy\"], label=\"train_accuracy\", ls='--')\n",
    "    plt.plot(np.arange(0, N), history.history[\"val_accuracy\"], label=\"val_accuracy\", ls='--')\n",
    "    plt.title(\"Accuracy vs Epoch\")\n",
    "    plt.xlabel(\"Epochs\")\n",
    "    plt.ylabel(\"Accuracy\")\n",
    "    plt.legend(loc=\"upper left\")"
   ]
  },
  {
   "cell_type": "code",
   "execution_count": 22,
   "metadata": {
    "id": "PnxxiR-T5PsQ"
   },
   "outputs": [
    {
     "data": {
      "image/png": "[encoded data removed]",
      "text/plain": [
       "<Figure size 504x504 with 1 Axes>"
      ]
     },
     "metadata": {
      "needs_background": "light"
     },
     "output_type": "display_data"
    }
   ],
   "source": [
    "plot_accuracy(history)"
   ]
  },
  {
   "cell_type": "markdown",
   "metadata": {
    "id": "AGOtxZ10fEIn"
   },
   "source": [
    "\n",
    "\n",
    "* Here we can clearly observe that the training and valiation accuracy are increasing \n",
    "* And we can also notice that validation accuracy is slightly higher than the train accuracy"
   ]
  },
  {
   "cell_type": "markdown",
   "metadata": {
    "id": "dCDgxiFnXSek"
   },
   "source": [
    "So now let's try to build another model with few more add on layers and try to check if we can try to improve the model. Therefore try to build a model by adding few layers if required and altering the activation functions."
   ]
  },
  {
   "cell_type": "markdown",
   "metadata": {
    "id": "2tJeklwR77rs"
   },
   "source": [
    "###<b> Model 1\n",
    "####<b> Trying to improve the performance of our model by adding new layers\n"
   ]
  },
  {
   "cell_type": "code",
   "execution_count": 23,
   "metadata": {
    "id": "v3in8FDCOND9"
   },
   "outputs": [],
   "source": [
    "#Clearing backend\n",
    "from tensorflow.keras import backend\n",
    "from tensorflow.keras.utils import to_categorical\n",
    "from tensorflow.keras.models import Sequential\n",
    "from tensorflow.keras.layers import Conv2D,MaxPooling2D,Dense,Flatten,Dropout  \n",
    "from tensorflow.keras.callbacks import EarlyStopping, ModelCheckpoint\n",
    "from random import shuffle\n",
    "\n",
    "backend.clear_session()\n",
    "#Fixing the seed for random number generators so that we can ensure we receive the same output everytime\n",
    "np.random.seed(42)\n",
    "import random\n",
    "random.seed(42)\n",
    "tf.random.set_seed(42)"
   ]
  },
  {
   "cell_type": "markdown",
   "metadata": {
    "id": "DT99NdnzZW3n"
   },
   "source": [
    "####<b> Building the Model"
   ]
  },
  {
   "cell_type": "code",
   "execution_count": 24,
   "metadata": {
    "id": "4TaSet9DONGV"
   },
   "outputs": [
    {
     "ename": "ValueError",
     "evalue": "This model has not yet been built. Build the model first by calling `build()` or calling `fit()` with some data, or specify an `input_shape` argument in the first layer(s) for automatic build.",
     "output_type": "error",
     "traceback": [
      "\u001b[0;31m---------------------------------------------------------------------------\u001b[0m",
      "\u001b[0;31mValueError\u001b[0m                                Traceback (most recent call last)",
      "\u001b[0;32m<ipython-input-24-4f439d687920>\u001b[0m in \u001b[0;36m<module>\u001b[0;34m\u001b[0m\n\u001b[1;32m      5\u001b[0m \u001b[0;34m\u001b[0m\u001b[0m\n\u001b[1;32m      6\u001b[0m \u001b[0;34m\u001b[0m\u001b[0m\n\u001b[0;32m----> 7\u001b[0;31m \u001b[0mmodel1\u001b[0m\u001b[0;34m.\u001b[0m\u001b[0msummary\u001b[0m\u001b[0;34m(\u001b[0m\u001b[0;34m)\u001b[0m\u001b[0;34m\u001b[0m\u001b[0;34m\u001b[0m\u001b[0m\n\u001b[0m",
      "\u001b[0;32m~/anaconda3/envs/amazonei_pytorch_latest_p36/lib/python3.6/site-packages/keras/engine/training.py\u001b[0m in \u001b[0;36msummary\u001b[0;34m(self, line_length, positions, print_fn)\u001b[0m\n\u001b[1;32m   2519\u001b[0m     \"\"\"\n\u001b[1;32m   2520\u001b[0m     \u001b[0;32mif\u001b[0m \u001b[0;32mnot\u001b[0m \u001b[0mself\u001b[0m\u001b[0;34m.\u001b[0m\u001b[0mbuilt\u001b[0m\u001b[0;34m:\u001b[0m\u001b[0;34m\u001b[0m\u001b[0;34m\u001b[0m\u001b[0m\n\u001b[0;32m-> 2521\u001b[0;31m       raise ValueError('This model has not yet been built. '\n\u001b[0m\u001b[1;32m   2522\u001b[0m                        \u001b[0;34m'Build the model first by calling `build()` or calling '\u001b[0m\u001b[0;34m\u001b[0m\u001b[0;34m\u001b[0m\u001b[0m\n\u001b[1;32m   2523\u001b[0m                        \u001b[0;34m'`fit()` with some data, or specify '\u001b[0m\u001b[0;34m\u001b[0m\u001b[0;34m\u001b[0m\u001b[0m\n",
      "\u001b[0;31mValueError\u001b[0m: This model has not yet been built. Build the model first by calling `build()` or calling `fit()` with some data, or specify an `input_shape` argument in the first layer(s) for automatic build."
     ]
    }
   ],
   "source": [
    "#creating sequential model\n",
    "model1=Sequential()\n",
    "\n",
    "# Build the model here\n",
    "\n",
    "\n",
    "model1.summary()"
   ]
  },
  {
   "cell_type": "markdown",
   "metadata": {
    "id": "S6cTCOAVZZpI"
   },
   "source": [
    "####<b> Compiling the model"
   ]
  },
  {
   "cell_type": "code",
   "execution_count": null,
   "metadata": {
    "id": "JWcQhKidONIr"
   },
   "outputs": [],
   "source": [
    "model1.compile(loss=__________, optimizer=_______, metrics=['accuracy'])"
   ]
  },
  {
   "cell_type": "markdown",
   "metadata": {
    "id": "2PSskadUZhUt"
   },
   "source": [
    "<b> Using Callbacks"
   ]
  },
  {
   "cell_type": "code",
   "execution_count": null,
   "metadata": {
    "id": "Z4_T2_sKONMA"
   },
   "outputs": [],
   "source": [
    "callbacks = [EarlyStopping(monitor='val_loss', patience=2),\n",
    "             ModelCheckpoint('.mdl_wts.hdf5', monitor='val_loss', save_best_only=True)]"
   ]
  },
  {
   "cell_type": "markdown",
   "metadata": {
    "id": "VYLgQK9DZkoc"
   },
   "source": [
    "<b>Fit and Train the model"
   ]
  },
  {
   "cell_type": "code",
   "execution_count": null,
   "metadata": {
    "id": "O7S7LmVTZjrd"
   },
   "outputs": [],
   "source": [
    "history1=model1.fit(_____________,__________,batch_size=______,callbacks=callbacks,  validation_split=______,epochs=______,verbose=1)"
   ]
  },
  {
   "cell_type": "markdown",
   "metadata": {
    "id": "bHABkGRzZwyt"
   },
   "source": [
    "####<b> Evaluating the model"
   ]
  },
  {
   "cell_type": "code",
   "execution_count": null,
   "metadata": {
    "id": "yie1Z-R6Zjt_"
   },
   "outputs": [],
   "source": [
    "accuracy1 = model1.evaluate(_________, _____________, verbose=1)\n",
    "print('\\n', 'Test_Accuracy:-', accuracy1[1])"
   ]
  },
  {
   "cell_type": "markdown",
   "metadata": {
    "id": "cCJEZ6cqZywk"
   },
   "source": [
    "<b> Plotting the confusion matrix"
   ]
  },
  {
   "cell_type": "code",
   "execution_count": null,
   "metadata": {
    "id": "YmuJFfUjZjws"
   },
   "outputs": [],
   "source": []
  },
  {
   "cell_type": "markdown",
   "metadata": {
    "id": "roDugWeKaVDW"
   },
   "source": [
    "<b> Plotting the Train and validation curves"
   ]
  },
  {
   "cell_type": "code",
   "execution_count": null,
   "metadata": {
    "id": "JakeVNnbZjzh"
   },
   "outputs": [],
   "source": []
  },
  {
   "cell_type": "markdown",
   "metadata": {
    "id": "Zsx7jVjaiO9V"
   },
   "source": [
    "####<b>Think about it:</b><br>\n",
    "Now let's build a model with LeakyRelu as the activation function  \n",
    "\n",
    "*  Can the model performance be improved if we change our activation function to LeakyRelu?\n",
    "*  Can BatchNormalization improve our model?\n",
    "\n",
    "Let us try to build a model using BatchNormalization and using LeakyRelu as our activation function."
   ]
  },
  {
   "cell_type": "markdown",
   "metadata": {
    "id": "JU4qr7amiXds"
   },
   "source": [
    "###<b> Model 2 with Batch Normalization"
   ]
  },
  {
   "cell_type": "code",
   "execution_count": null,
   "metadata": {
    "id": "fOXd_ciyZj2n"
   },
   "outputs": [],
   "source": [
    "#Clearing backend\n",
    "from tensorflow.keras import backend\n",
    "backend.clear_session()\n",
    "\n",
    "#Fixing the seed for random number generators\n",
    "np.random.seed(42)\n",
    "import random\n",
    "random.seed(42)\n",
    "tf.random.set_seed(42)"
   ]
  },
  {
   "cell_type": "markdown",
   "metadata": {
    "id": "1kDMUu-U8vV3"
   },
   "source": [
    "####<b> Building the Model"
   ]
  },
  {
   "cell_type": "code",
   "execution_count": null,
   "metadata": {
    "id": "uJBcwhtbiu0l"
   },
   "outputs": [],
   "source": [
    "model2 = Sequential()\n",
    "model2.add(Conv2D(32, (3,3), input_shape=(64, 64, 3), padding='same'))\n",
    "\n",
    "'''\n",
    "\n",
    "Complete this model using BatchNormalization layers and by using LeakyRelu as the activation function\n",
    "\n",
    "\n",
    "'''\n",
    "\n",
    "adam = optimizers.Adam(learning_rate=0.001)\n",
    "\n",
    "model2.summary()"
   ]
  },
  {
   "cell_type": "markdown",
   "metadata": {
    "id": "t9WQ7-cOLIQy"
   },
   "source": [
    "####<b>Compiling the model"
   ]
  },
  {
   "cell_type": "code",
   "execution_count": null,
   "metadata": {
    "id": "6SiRoyZ7LHSL"
   },
   "outputs": [],
   "source": [
    "model2.compile(loss=\"binary_crossentropy\", optimizer=adam, metrics = ['accuracy'])"
   ]
  },
  {
   "cell_type": "markdown",
   "metadata": {
    "id": "XOVzX0WTDUEy"
   },
   "source": [
    "<b> Using callbacks"
   ]
  },
  {
   "cell_type": "code",
   "execution_count": null,
   "metadata": {
    "id": "jC0FcITongxx"
   },
   "outputs": [],
   "source": [
    "'''\n",
    "\n",
    "create the callbacks similarly as done in the base model\n",
    "As callbacks will help us in saving our checkpoints and stopping at an accuracy where the model doesnot seem to improve\n",
    "\n",
    "'''"
   ]
  },
  {
   "cell_type": "markdown",
   "metadata": {
    "id": "Rxj3AcS0Dqm8"
   },
   "source": [
    "<b>Fit and train the model"
   ]
  },
  {
   "cell_type": "code",
   "execution_count": null,
   "metadata": {
    "id": "fMy-4IGajL31"
   },
   "outputs": [],
   "source": [
    "history2 = model2.fit(train_images,train_labels,batch_size=32,callbacks=callbacks,validation_split=0.2,epochs=20,verbose=1)"
   ]
  },
  {
   "cell_type": "markdown",
   "metadata": {
    "id": "j9DkuwVYDtc3"
   },
   "source": [
    "<b>Plotting the train and validation accuracy"
   ]
  },
  {
   "cell_type": "code",
   "execution_count": null,
   "metadata": {
    "id": "ILu-oHB_jxGY"
   },
   "outputs": [],
   "source": [
    "# plotting the accuracies\n"
   ]
  },
  {
   "cell_type": "markdown",
   "metadata": {
    "id": "mSREnGkgDz6N"
   },
   "source": [
    "####<b>Evaluating the model"
   ]
  },
  {
   "cell_type": "code",
   "execution_count": null,
   "metadata": {
    "id": "pZGH8gE089Gx"
   },
   "outputs": [],
   "source": [
    "# Evaluate the model to calculate the accuracy\n",
    "accuracy = model2.evaluate(________, ______________, verbose=1)\n",
    "print('\\n', 'Test_Accuracy:-', accuracy[1])"
   ]
  },
  {
   "cell_type": "markdown",
   "metadata": {
    "id": "RiIQnwKaJ27O"
   },
   "source": [
    "#####<b>Observations and insights: ____"
   ]
  },
  {
   "cell_type": "markdown",
   "metadata": {
    "id": "YDL1BQZ7_JxS"
   },
   "source": [
    "<b> Generate the classification report and confusion matrix "
   ]
  },
  {
   "cell_type": "code",
   "execution_count": null,
   "metadata": {
    "id": "pB-CYdwC9V8P"
   },
   "outputs": [],
   "source": [
    "from sklearn.metrics import classification_report\n",
    "from sklearn.metrics import confusion_matrix\n",
    "\n",
    "pred = model2.predict(_______)\n",
    "pred = np.argmax(pred,axis = 1) \n",
    "y_true = np.argmax(________________,axis = 1)\n",
    "#Printing the classification report\n",
    "print(classification_report(______,_______))\n",
    "\n",
    "#Plotting the heatmap using confusion matrix\n",
    "cm = confusion_matrix(_____,_____)\n",
    "plt.figure(figsize=(8,5))\n",
    "sns.heatmap(cm, annot=True,  fmt='.0f', xticklabels=['Uninfected', 'Parasitized'], yticklabels=['Uninfected', 'Parasitized'])\n",
    "plt.ylabel('Actual')\n",
    "plt.xlabel('Predicted')\n",
    "plt.show()"
   ]
  },
  {
   "cell_type": "markdown",
   "metadata": {
    "id": "aUwBBVzuijlU"
   },
   "source": [
    "####**Think About It :**<br>\n",
    "\n",
    "* Can we improve the model with Image Data Augmentation?\n",
    "* References to image data augmentation can be seen below:\n",
    "  *   [Image Augmentation for Computer Vision](https://www.mygreatlearning.com/blog/understanding-data-augmentation/)\n",
    "  *   [How to Configure Image Data Augmentation in Keras?](https://machinelearningmastery.com/how-to-configure-image-data-augmentation-when-training-deep-learning-neural-networks/)\n",
    "\n",
    "\n",
    "\n"
   ]
  },
  {
   "cell_type": "markdown",
   "metadata": {
    "id": "DYVJZ0Psi0D0"
   },
   "source": [
    "###<b>Model 3 with Data Augmentation"
   ]
  },
  {
   "cell_type": "code",
   "execution_count": null,
   "metadata": {
    "id": "1ddfrhcLihpz"
   },
   "outputs": [],
   "source": [
    "#Clearing backend\n",
    "from tensorflow.keras import backend\n",
    "backend.clear_session()\n",
    "#Fixing the seed for random number generators\n",
    "np.random.seed(42)\n",
    "import random\n",
    "random.seed(42)\n",
    "tf.random.set_seed(42)"
   ]
  },
  {
   "cell_type": "markdown",
   "metadata": {
    "id": "NqOnCq3FZ6JG"
   },
   "source": [
    "####<b> Using image data generator"
   ]
  },
  {
   "cell_type": "code",
   "execution_count": null,
   "metadata": {
    "id": "MnvWygv4aAZc"
   },
   "outputs": [],
   "source": [
    "from sklearn.model_selection import train_test_split\n",
    "X_train, X_val, y_train, y_val = train_test_split(train_images, train_labels, test_size=0.2, random_state=42)\n",
    "from tensorflow.keras.preprocessing.image import ImageDataGenerator\n",
    "\n",
    "# Using ImageDataGenerator to generate images\n",
    "\n",
    "train_datagen = ImageDataGenerator(horizontal_flip=True, \n",
    "                                  zoom_range = 0.5, rotation_range=30)\n",
    "val_datagen  = ImageDataGenerator()\n",
    "\n",
    "# Flowing training images using train_datagen generator\n",
    "train_generator = train_datagen.flow(x = _______, y = __________, batch_size=64, seed=42, shuffle=True)     \n",
    "\n",
    "# Flowing validation images using val_datagen generator\n",
    "val_generator =  val_datagen.flow(x= _________, y = _________, batch_size=64, seed=42, shuffle=True)"
   ]
  },
  {
   "cell_type": "markdown",
   "metadata": {
    "id": "_2cJN07Bbofx"
   },
   "source": [
    "####**Think About It :**<br>\n",
    "\n",
    "*  Check if the performance of the model can be improved by changing different parameters in the ImageDataGenerator.\n",
    "\n"
   ]
  },
  {
   "cell_type": "markdown",
   "metadata": {
    "id": "341Ilg5McowX"
   },
   "source": [
    "####<B>Visualizing Augmented images"
   ]
  },
  {
   "cell_type": "code",
   "execution_count": null,
   "metadata": {
    "id": "Ws3BE91RbFBy"
   },
   "outputs": [],
   "source": [
    "#Creating an iterable for images and labels from the training data\n",
    "images, labels = next(train_generator)\n",
    "\n",
    "#Plotting 16 images from the training data\n",
    "fig, axes = plt.subplots(4, 4, figsize = (16, 8))\n",
    "fig.set_size_inches(16, 16)\n",
    "for (image, label, ax) in zip(images, labels, axes.flatten()):\n",
    "    ax.imshow(image)\n",
    "    if label[1] == 1: \n",
    "        ax.set_title('parasitized')\n",
    "    else:\n",
    "        ax.set_title('uninfected')\n",
    "    ax.axis('off')"
   ]
  },
  {
   "cell_type": "markdown",
   "metadata": {
    "id": "ZfCMCaAZdK3o"
   },
   "source": [
    "#####<b>Observations and insights: ____"
   ]
  },
  {
   "cell_type": "markdown",
   "metadata": {
    "id": "BrpS4Azamjs4"
   },
   "source": [
    "####<b>Building the Model"
   ]
  },
  {
   "cell_type": "code",
   "execution_count": null,
   "metadata": {
    "id": "YVELJI8uihsz"
   },
   "outputs": [],
   "source": [
    "model3 = Sequential()\n",
    "\n",
    "# Build the model here\n",
    "\n",
    "# use this as the optimizer\n",
    "adam = optimizers.Adam(learning_rate=0.001)\n",
    "\n",
    "model3.compile(loss=________________, optimizer=adam, metrics = ['accuracy'])\n",
    "model3.summary()"
   ]
  },
  {
   "cell_type": "markdown",
   "metadata": {
    "id": "j-HrtTMJnEPl"
   },
   "source": [
    "<b>Using Callbacks"
   ]
  },
  {
   "cell_type": "code",
   "execution_count": null,
   "metadata": {
    "id": "xMWPxLvdihvf"
   },
   "outputs": [],
   "source": [
    "callbacks = [EarlyStopping(monitor='val_loss', patience=2),\n",
    "             ModelCheckpoint('.mdl_wts.hdf5', monitor='val_loss', save_best_only=True)]"
   ]
  },
  {
   "cell_type": "markdown",
   "metadata": {
    "id": "SEeOIRrCnMBh"
   },
   "source": [
    "<b> Fit and Train the model"
   ]
  },
  {
   "cell_type": "code",
   "execution_count": null,
   "metadata": {
    "id": "u_2dSGYMihyk"
   },
   "outputs": [],
   "source": [
    "history3 = model3.fit(train_generator, \n",
    "                                  validation_data=val_generator,\n",
    "                                  batch_size=_____,callbacks=___________,\n",
    "                                  epochs=20,verbose=1)"
   ]
  },
  {
   "cell_type": "markdown",
   "metadata": {
    "id": "8EFWVEUKoM1U"
   },
   "source": [
    "####<B>Evaluating the model"
   ]
  },
  {
   "cell_type": "markdown",
   "metadata": {
    "id": "8twGIoxWnrCb"
   },
   "source": [
    "<b>Plot the train and validation accuracy"
   ]
  },
  {
   "cell_type": "code",
   "execution_count": null,
   "metadata": {
    "id": "HjB4IecBih2K"
   },
   "outputs": [],
   "source": [
    "# plotting the accuracies\n",
    "plot_accuracy(_________)"
   ]
  },
  {
   "cell_type": "code",
   "execution_count": null,
   "metadata": {
    "id": "i9sBTSvL_Uz-"
   },
   "outputs": [],
   "source": [
    "# Evaluating the model on test data\n",
    "accuracy3 = _________.evaluate(________, ___________, verbose=1)\n",
    "print('\\n', 'Test_Accuracy:-', accuracy3[1])"
   ]
  },
  {
   "cell_type": "markdown",
   "metadata": {
    "id": "x_VDQxXwoe6u"
   },
   "source": [
    "<B>Plotting the classification report and confusion matrix"
   ]
  },
  {
   "cell_type": "code",
   "execution_count": null,
   "metadata": {
    "id": "RxdOpuzJoj8l"
   },
   "outputs": [],
   "source": []
  },
  {
   "cell_type": "markdown",
   "metadata": {
    "id": "obzJSEF5ypj-"
   },
   "source": [
    "<b> Now let us try to use a pretrained model like VGG16 and check how it performs on our data."
   ]
  },
  {
   "cell_type": "markdown",
   "metadata": {
    "id": "ra-GUCjbLHGg"
   },
   "source": [
    "### **Pre-trained model (VGG16)**"
   ]
  },
  {
   "cell_type": "code",
   "execution_count": null,
   "metadata": {
    "id": "5dH2_XWNLyac"
   },
   "outputs": [],
   "source": [
    "#Clearing backend\n",
    "from tensorflow.keras import backend\n",
    "backend.clear_session()\n",
    "#Fixing the seed for random number generators\n",
    "np.random.seed(42)\n",
    "import random\n",
    "random.seed(42)\n",
    "tf.random.set_seed(42)"
   ]
  },
  {
   "cell_type": "code",
   "execution_count": null,
   "metadata": {
    "id": "bCtAgs1FAxhp"
   },
   "outputs": [],
   "source": [
    "from tensorflow.keras.applications.vgg16 import VGG16\n",
    "from tensorflow.keras import Model\n",
    "\n",
    "vgg = VGG16(include_top=_________, weights='imagenet', input_shape=(64,64,3))\n",
    "vgg.summary()"
   ]
  },
  {
   "cell_type": "code",
   "execution_count": null,
   "metadata": {
    "id": "iDQ7RswtA0jf"
   },
   "outputs": [],
   "source": [
    "transfer_layer = vgg.get_layer('block5_pool')\n",
    "vgg.trainable=False\n",
    "\n",
    "# Add classification layers on top of it  \n",
    " \n",
    "x = Flatten()(transfer_layer.output) #Flatten the output from the 3rd block of the VGG16 model\n",
    "x = Dense(256, activation='relu')(x)\n",
    "\n",
    "# Similarly add a dense layer with 128 neurons\n",
    "x = Dropout(0.3)(x)\n",
    "\n",
    "# Add a dense layer with 64 neurons\n",
    "\n",
    "x = BatchNormalization()(x)\n",
    "pred = Dense(______, activation='softmax')(_____)\n",
    "\n",
    "model4 = Model(vgg.input, pred) #Initializing the model"
   ]
  },
  {
   "cell_type": "markdown",
   "metadata": {
    "id": "Mhoug92KFWPa"
   },
   "source": [
    "####<b>Compiling the model"
   ]
  },
  {
   "cell_type": "code",
   "execution_count": null,
   "metadata": {
    "id": "CdJ8C0L5Lkyt"
   },
   "outputs": [],
   "source": [
    "# Compiling the model "
   ]
  },
  {
   "cell_type": "markdown",
   "metadata": {
    "id": "rBPzjtxcFLQt"
   },
   "source": [
    "<b> using callbacks"
   ]
  },
  {
   "cell_type": "code",
   "execution_count": null,
   "metadata": {
    "id": "qS3skmQBR4if"
   },
   "outputs": [],
   "source": [
    "# Adding Callbacks to the model"
   ]
  },
  {
   "cell_type": "markdown",
   "metadata": {
    "id": "4_ZeobGmFIOF"
   },
   "source": [
    "<b>Fit and Train the model"
   ]
  },
  {
   "cell_type": "code",
   "execution_count": null,
   "metadata": {
    "id": "V6sSx39uL1mS"
   },
   "outputs": [],
   "source": [
    "#Fitting the model and running the model for 10 epochs\n",
    "history4 = model4.fit(\n",
    "            __________, ______________,\n",
    "            epochs=_________,\n",
    "            callbacks=_____________,\n",
    "            batch_size=_________,\n",
    "            validation_split=0.2,\n",
    "            verbose=1\n",
    ")"
   ]
  },
  {
   "cell_type": "markdown",
   "metadata": {
    "id": "O0WI9dvDFBaR"
   },
   "source": [
    "<b>Plot the train and validation accuracy"
   ]
  },
  {
   "cell_type": "code",
   "execution_count": null,
   "metadata": {
    "id": "mKmS2XyiMBqb"
   },
   "outputs": [],
   "source": [
    "# plotting the accuracies\n",
    "plot_accuracy(__________)"
   ]
  },
  {
   "cell_type": "markdown",
   "metadata": {
    "id": "mb3jUduI0BNs"
   },
   "source": [
    "#####**Observations and insights: _____**\n",
    "\n",
    "*   What can be observed from the validation and train curves?"
   ]
  },
  {
   "cell_type": "markdown",
   "metadata": {
    "id": "Ykl7xLODEoix"
   },
   "source": [
    "####<b> Evaluating the model"
   ]
  },
  {
   "cell_type": "code",
   "execution_count": null,
   "metadata": {
    "id": "RxcgkSoivwWf"
   },
   "outputs": [],
   "source": [
    "# Evaluating the model on test data\n"
   ]
  },
  {
   "cell_type": "markdown",
   "metadata": {
    "id": "r_lr-dUHE77F"
   },
   "source": [
    "<b>Plotting the classification report and confusion matrix"
   ]
  },
  {
   "cell_type": "code",
   "execution_count": null,
   "metadata": {
    "id": "jns2wf2HMBto"
   },
   "outputs": [],
   "source": [
    "# Plot the confusion matrix and generate a classification report for the model"
   ]
  },
  {
   "cell_type": "markdown",
   "metadata": {
    "id": "MEZPA_mN0tUo"
   },
   "source": [
    "####<b>Think about it:</b>\n",
    "*  What observations and insights can be drawn from the confusion matrix and classification report?\n",
    "*  Choosw the model with the best accuracy scores from all the above models and save it as a final model.\n"
   ]
  },
  {
   "cell_type": "markdown",
   "metadata": {
    "id": "Smzi8y5AEYIi"
   },
   "source": [
    "###<b> Observations and Conclusions drawn from the final model: _____\n",
    "\n"
   ]
  },
  {
   "cell_type": "markdown",
   "metadata": {
    "id": "yo6IpgOZ1n-g"
   },
   "source": [
    "**Improvements that can be done:**<br>\n",
    "\n",
    "\n",
    "*  Can the model performance be improved using other pre-trained models or different CNN architecture?\n",
    "*  You can try to build a model using these HSV images and compare them with your other models."
   ]
  },
  {
   "cell_type": "markdown",
   "metadata": {
    "id": "mJB6yf2EczFk"
   },
   "source": [
    "### **Insights**\n",
    "\n",
    "####**Refined insights**:\n",
    "- What are the most meaningful insights from the data relevant to the problem?\n",
    "\n",
    "####**Comparison of various techniques and their relative performance**:\n",
    "- How do different techniques perform? Which one is performing relatively better? Is there scope to improve the performance further?\n",
    "\n",
    "####**Proposal for the final solution design**:\n",
    "- What model do you propose to be adopted? Why is this the best solution to adopt?"
   ]
  }
 ],
 "metadata": {
  "colab": {
   "collapsed_sections": [],
   "name": "Reference_Notebook_Milestone2_DL.ipynb",
   "provenance": []
  },
  "kernelspec": {
   "display_name": "conda_amazonei_pytorch_latest_p36",
   "language": "python",
   "name": "conda_amazonei_pytorch_latest_p36"
  },
  "language_info": {
   "codemirror_mode": {
    "name": "ipython",
    "version": 3
   },
   "file_extension": ".py",
   "mimetype": "text/x-python",
   "name": "python",
   "nbconvert_exporter": "python",
   "pygments_lexer": "ipython3",
   "version": "3.6.13"
  }
 },
 "nbformat": 4,
 "nbformat_minor": 4
}
